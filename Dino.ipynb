{
  "nbformat": 4,
  "nbformat_minor": 0,
  "metadata": {
    "colab": {
      "name": "Dino.ipynb",
      "version": "0.3.2",
      "provenance": []
    },
    "kernelspec": {
      "name": "python3",
      "display_name": "Python 3"
    }
  },
  "cells": [
    {
      "metadata": {
        "id": "CPKOYvtNAqjd",
        "colab_type": "code",
        "outputId": "d7c428df-1847-4d00-9a70-dcd079c9df7b",
        "colab": {
          "base_uri": "https://localhost:8080/",
          "height": 54
        },
        "cellView": "code"
      },
      "cell_type": "code",
      "source": [
        "#@title Importing modules on colab\n",
        "from os import path\n",
        "from wheel.pep425tags import get_abbr_impl, get_impl_ver, get_abi_tag\n",
        "platform = '{}{}-{}'.format(get_abbr_impl(), get_impl_ver(), get_abi_tag())\n",
        "\n",
        "accelerator = 'cu80' if path.exists('/opt/bin/nvidia-smi') else 'cpu'\n",
        "\n",
        "!pip install -q http://download.pytorch.org/whl/{accelerator}/torch-0.4.0-{platform}-linux_x86_64.whl torchvision\n",
        "import torch\n",
        "print(torch.__version__)\n",
        "print(torch.cuda.is_available())"
      ],
      "execution_count": 1,
      "outputs": [
        {
          "output_type": "stream",
          "text": [
            "0.4.0\n",
            "False\n"
          ],
          "name": "stdout"
        }
      ]
    },
    {
      "metadata": {
        "id": "6WXSslxueGlC",
        "colab_type": "code",
        "colab": {}
      },
      "cell_type": "code",
      "source": [
        "!pip3 install Pillow==4.0.0\n",
        "!pip3 install PIL\n",
        "!pip3 install image"
      ],
      "execution_count": 0,
      "outputs": []
    },
    {
      "metadata": {
        "id": "zfvjddlFeIxv",
        "colab_type": "code",
        "outputId": "62507bf9-12ea-4322-f51b-0abcc5e905e7",
        "colab": {
          "base_uri": "https://localhost:8080/",
          "height": 54
        }
      },
      "cell_type": "code",
      "source": [
        "from os import path\n",
        "from wheel.pep425tags import get_abbr_impl, get_impl_ver, get_abi_tag\n",
        "platform = '{}{}-{}'.format(get_abbr_impl(), get_impl_ver(), get_abi_tag())\n",
        "\n",
        "accelerator = 'cu80' if path.exists('/opt/bin/nvidia-smi') else 'cpu'\n",
        "\n",
        "!pip install -q http://download.pytorch.org/whl/{accelerator}/torch-0.4.0-{platform}-linux_x86_64.whl torchvision\n",
        "import torch\n",
        "print(torch.__version__)\n",
        "print(torch.cuda.is_available())\n",
        "import numpy as np\n",
        "from __future__ import print_function\n",
        "\n",
        "import torch\n",
        "import torch.nn as nn\n",
        "import torch.nn.functional as F\n",
        "import torch.optim as optim\n",
        "\n",
        "from PIL import Image\n",
        "import matplotlib.pyplot as plt\n",
        "\n",
        "import torchvision.transforms as transforms\n",
        "import torchvision.models as models\n",
        "\n",
        "import copy"
      ],
      "execution_count": 3,
      "outputs": [
        {
          "output_type": "stream",
          "text": [
            "0.4.0\n",
            "False\n"
          ],
          "name": "stdout"
        }
      ]
    },
    {
      "metadata": {
        "id": "7JfT-tNQPwT8",
        "colab_type": "code",
        "outputId": "541ab7cc-ee0f-49bd-8c35-b6dd173f54d8",
        "colab": {
          "base_uri": "https://localhost:8080/",
          "height": 35
        }
      },
      "cell_type": "code",
      "source": [
        "import os\n",
        "os.getcwd()"
      ],
      "execution_count": 4,
      "outputs": [
        {
          "output_type": "execute_result",
          "data": {
            "text/plain": [
              "'/content'"
            ]
          },
          "metadata": {
            "tags": []
          },
          "execution_count": 4
        }
      ]
    },
    {
      "metadata": {
        "id": "YSO3nsDqNdgZ",
        "colab_type": "code",
        "colab": {}
      },
      "cell_type": "code",
      "source": [
        "device = torch.device(\"cuda\")"
      ],
      "execution_count": 0,
      "outputs": []
    },
    {
      "metadata": {
        "id": "TOxM5-VJBpT1",
        "colab_type": "code",
        "colab": {}
      },
      "cell_type": "code",
      "source": [
        "!pip3 install glob\n",
        "!pip3 install os\n",
        "!pip3 install unicodedata\n",
        "import glob,os,unicodedata,string"
      ],
      "execution_count": 0,
      "outputs": []
    },
    {
      "metadata": {
        "id": "JXKBZcLM5KSt",
        "colab_type": "code",
        "colab": {}
      },
      "cell_type": "code",
      "source": [
        "def upload_files():\n",
        "  from google.colab import files\n",
        "  uploaded = files.upload()\n",
        "  for k, v in uploaded.items():\n",
        "    open(k, 'wb').write(v)\n",
        "  return list(uploaded.keys())"
      ],
      "execution_count": 0,
      "outputs": []
    },
    {
      "metadata": {
        "id": "yHz_JnxP5NTr",
        "colab_type": "code",
        "colab": {}
      },
      "cell_type": "code",
      "source": [
        "upload_files()"
      ],
      "execution_count": 0,
      "outputs": []
    },
    {
      "metadata": {
        "id": "okl2gD6A7tKJ",
        "colab_type": "code",
        "colab": {}
      },
      "cell_type": "code",
      "source": [
        "import string\n",
        "\n",
        "all_letters = string.ascii_letters #list of all ascii chars\n",
        "n_letters = len(all_letters) + 1 #EOS"
      ],
      "execution_count": 0,
      "outputs": []
    },
    {
      "metadata": {
        "id": "5jxciKck7-9K",
        "colab_type": "code",
        "colab": {}
      },
      "cell_type": "code",
      "source": [
        "def readLines(filename):\n",
        "  lines = open(filename, encoding = 'utf-8').read().strip().split('\\n')\n",
        "  return lines"
      ],
      "execution_count": 0,
      "outputs": []
    },
    {
      "metadata": {
        "id": "PnwA0VvW9MwT",
        "colab_type": "code",
        "colab": {
          "base_uri": "https://localhost:8080/",
          "height": 55
        },
        "outputId": "dbe77e74-7483-40c6-ed77-529f11f76e68"
      },
      "cell_type": "code",
      "source": [
        "trainset = readLines('dinos.txt')\n",
        "trainset = [x.lower() for x in trainset]\n",
        "print(trainset)"
      ],
      "execution_count": 160,
      "outputs": [
        {
          "output_type": "stream",
          "text": [
            "['aachenosaurus', 'aardonyx', 'abdallahsaurus', 'abelisaurus', 'abrictosaurus', 'abrosaurus', 'abydosaurus', 'acanthopholis', 'achelousaurus', 'acheroraptor', 'achillesaurus', 'achillobator', 'acristavus', 'acrocanthosaurus', 'acrotholus', 'actiosaurus', 'adamantisaurus', 'adasaurus', 'adelolophus', 'adeopapposaurus', 'aegyptosaurus', 'aeolosaurus', 'aepisaurus', 'aepyornithomimus', 'aerosteon', 'aetonyxafromimus', 'afrovenator', 'agathaumas', 'aggiosaurus', 'agilisaurus', 'agnosphitys', 'agrosaurus', 'agujaceratops', 'agustinia', 'ahshislepelta', 'airakoraptor', 'ajancingenia', 'ajkaceratops', 'alamosaurus', 'alaskacephale', 'albalophosaurus', 'albertaceratops', 'albertadromeus', 'albertavenator', 'albertonykus', 'albertosaurus', 'albinykus', 'albisaurus', 'alcovasaurus', 'alectrosaurus', 'aletopelta', 'algoasaurus', 'alioramus', 'aliwalia', 'allosaurus', 'almas', 'alnashetri', 'alocodon', 'altirhinus', 'altispinax', 'alvarezsaurus', 'alwalkeria', 'alxasaurus', 'amargasaurus', 'amargastegos', 'amargatitanis', 'amazonsaurus', 'ammosaurus', 'ampelosaurus', 'amphicoelias', 'amphicoelicaudia', 'amphisaurus', 'amtocephale', 'amtosaurus', 'amurosaurus', 'amygdalodon', 'anabisetia', 'anasazisaurus', 'anatosaurus', 'anatotitan', 'anchiceratops', 'anchiornis', 'anchisaurus', 'andesaurus', 'andhrasaurus', 'angaturama', 'angloposeidon', 'angolatitan', 'angulomastacator', 'aniksosaurus', 'animantarx', 'ankistrodon', 'ankylosaurus', 'anodontosaurus', 'anoplosaurus', 'anserimimus', 'antarctopelta', 'antarctosaurus', 'antetonitrus', 'anthodon', 'antrodemus', 'anzu', 'aoniraptor', 'aorun', 'apatodon', 'apatoraptor', 'apatosaurus', 'appalachiosaurus', 'aquilops', 'aragosaurus', 'aralosaurus', 'araucanoraptor', 'archaeoceratops', 'archaeodontosaurus', 'archaeopteryx', 'archaeoraptor', 'archaeornis', 'archaeornithoides', 'archaeornithomimus', 'arcovenator', 'arctosaurus', 'arcusaurus', 'arenysaurus', 'argentinosaurus', 'argyrosaurus', 'aristosaurus', 'aristosuchus', 'arizonasaurus', 'arkansaurus', 'arkharavia', 'arrhinoceratops', 'arstanosaurus', 'asiaceratops', 'asiamericana', 'asiatosaurus', 'astrodon', 'astrodonius', 'astrodontaurus', 'astrophocaudia', 'asylosaurus', 'atacamatitan', 'atlantosaurus', 'atlasaurus', 'atlascopcosaurus', 'atrociraptor', 'atsinganosaurus', 'aublysodon', 'aucasaurus', 'augustia', 'augustynolophus', 'auroraceratops', 'aurornis', 'australodocus', 'australovenator', 'austrocheirus', 'austroposeidon', 'austroraptor', 'austrosaurus', 'avaceratops', 'avalonia', 'avalonianus', 'aviatyrannis', 'avimimus', 'avisaurus', 'avipes', 'azendohsaurus', 'bactrosaurus', 'bagaceratops', 'bagaraatan', 'bahariasaurus', 'bainoceratops', 'bakesaurus', 'balaur', 'balochisaurus', 'bambiraptor', 'banji', 'baotianmansaurus', 'barapasaurus', 'barilium', 'barosaurus', 'barrosasaurus', 'barsboldia', 'baryonyx', 'bashunosaurus', 'basutodon', 'bathygnathus', 'batyrosaurus', 'baurutitan', 'bayosaurus', 'becklespinax', 'beelemodon', 'beibeilong', 'beipiaognathus', 'beipiaosaurus', 'beishanlong', 'bellusaurus', 'belodon', 'berberosaurus', 'betasuchus', 'bicentenaria', 'bienosaurus', 'bihariosaurus', 'bilbeyhallorum', 'bissektipelta', 'bistahieversor', 'blancocerosaurus', 'blasisaurus', 'blikanasaurus', 'bolong', 'bonapartenykus', 'bonapartesaurus', 'bonatitan', 'bonitasaura', 'borealopelta', 'borealosaurus', 'boreonykus', 'borogovia', 'bothriospondylus', 'brachiosaurus', 'brachyceratops', 'brachylophosaurus', 'brachypodosaurus', 'brachyrophus', 'brachytaenius', 'brachytrachelopan', 'bradycneme', 'brasileosaurus', 'brasilotitan', 'bravoceratops', 'breviceratops', 'brohisaurus', 'brontomerus', 'brontoraptor', 'brontosaurus', 'bruhathkayosaurus', 'bugenasaura', 'buitreraptor', 'burianosaurus', 'buriolestes', 'byranjaffia', 'byronosaurus', 'caenagnathasia', 'caenagnathus', 'calamosaurus', 'calamospondylus', 'calamospondylus', 'callovosaurus', 'camarasaurus', 'camarillasaurus', 'camelotia', 'camposaurus', 'camptonotus', 'camptosaurus', 'campylodon', 'campylodoniscus', 'canardia', 'capitalsaurus', 'carcharodontosaurus', 'cardiodon', 'carnotaurus', 'caseosaurus', 'cathartesaura', 'cathetosaurus', 'caudipteryx', 'caudocoelus', 'caulodon', 'cedarosaurus', 'cedarpelta', 'cedrorestes', 'centemodon', 'centrosaurus', 'cerasinops', 'ceratonykus', 'ceratops', 'ceratosaurus', 'cetiosauriscus', 'cetiosaurus', 'changchunsaurus', 'changdusaurus', 'changyuraptor', 'chaoyangsaurus', 'charonosaurus', 'chasmosaurus', 'chassternbergia', 'chebsaurus', 'chenanisaurus', 'cheneosaurus', 'chialingosaurus', 'chiayusaurus', 'chienkosaurus', 'chihuahuasaurus', 'chilantaisaurus', 'chilesaurus', 'chindesaurus', 'chingkankousaurus', 'chinshakiangosaurus', 'chirostenotes', 'choconsaurus', 'chondrosteosaurus', 'chromogisaurus', 'chuandongocoelurus', 'chuanjiesaurus', 'chuanqilong', 'chubutisaurus', 'chungkingosaurus', 'chuxiongosaurus', 'cinizasaurus', 'cionodon', 'citipati', 'cladeiodon', 'claorhynchus', 'claosaurus', 'clarencea', 'clasmodosaurus', 'clepsysaurus', 'coahuilaceratops', 'coelophysis', 'coelosaurus', 'coeluroides', 'coelurosauravus', 'coelurus', 'colepiocephale', 'coloradia', 'coloradisaurus', 'colossosaurus', 'comahuesaurus', 'comanchesaurus', 'compsognathus', 'compsosuchus', 'concavenator', 'conchoraptor', 'condorraptor', 'coronosaurus', 'corythoraptor', 'corythosaurus', 'craspedodon', 'crataeomus', 'craterosaurus', 'creosaurus', 'crichtonpelta', 'crichtonsaurus', 'cristatusaurus', 'crosbysaurus', 'cruxicheiros', 'cryolophosaurus', 'cryptodraco', 'cryptoraptor', 'cryptosaurus', 'cryptovolans', 'cumnoria', 'daanosaurus', 'dacentrurus', 'dachongosaurus', 'daemonosaurus', 'dahalokely', 'dakosaurus', 'dakotadon', 'dakotaraptor', 'daliansaurus', 'damalasaurus', 'dandakosaurus', 'danubiosaurus', 'daptosaurus', 'darwinsaurus', 'dashanpusaurus', 'daspletosaurus', 'dasygnathoides', 'dasygnathus', 'datanglong', 'datonglong', 'datousaurus', 'daurosaurus', 'daxiatitan', 'deinocheirus', 'deinodon', 'deinonychus', 'delapparentia', 'deltadromeus', 'demandasaurus', 'denversaurus', 'deuterosaurus', 'diabloceratops', 'diamantinasaurus', 'dianchungosaurus', 'diceratops', 'diceratusdiclonius', 'dicraeosaurus', 'didanodondilong', 'dilophosaurus', 'diluvicursor', 'dimodosaurus', 'dinheirosaurus', 'dinodocus', 'dinotyrannus', 'diplodocus', 'diplotomodon', 'diracodon', 'dolichosuchus', 'dollodon', 'domeykosaurus', 'dongbeititan', 'dongyangopelta', 'dongyangosaurus', 'doratodon', 'doryphorosaurus', 'draconyx', 'dracopelta', 'dracoraptor', 'dracorex', 'dracovenator', 'dravidosaurus', 'dreadnoughtus', 'drinker', 'dromaeosauroides', 'dromaeosaurus', 'dromiceiomimus', 'dromicosaurus', 'drusilasaura', 'dryosaurus', 'dryptosauroides', 'dryptosaurus', 'dubreuillosaurus', 'duriatitan', 'duriavenator', 'dynamosaurus', 'dyoplosaurus', 'dysalotosaurus', 'dysganus', 'dyslocosaurus', 'dystrophaeus', 'dystylosaurus', 'echinodon', 'edmarka', 'edmontonia', 'edmontosaurus', 'efraasia', 'einiosaurus', 'ekrixinatosaurus', 'elachistosuchus', 'elaltitan', 'elaphrosaurus', 'elmisaurus', 'elopteryx', 'elosaurus', 'elrhazosaurus', 'elvisaurus', 'emausaurus', 'embasaurus', 'enigmosaurus', 'eoabelisaurus', 'eobrontosaurus', 'eocarcharia', 'eoceratops', 'eocursor', 'eodromaeus', 'eohadrosaurus', 'eolambia', 'eomamenchisaurus', 'eoplophysis', 'eoraptor', 'eosinopteryx', 'eotrachodon', 'eotriceratops', 'eotyrannus', 'eousdryosaurus', 'epachthosaurus', 'epanterias', 'ephoenosaurus', 'epicampodon', 'epichirostenotes', 'epidendrosaurus', 'epidexipteryx', 'equijubus', 'erectopus', 'erketu', 'erliansaurus', 'erlikosaurus', 'eshanosaurus', 'euacanthus', 'eucamerotus', 'eucentrosaurus', 'eucercosaurus', 'eucnemesaurus', 'eucoelophysis', 'eugongbusaurus', 'euhelopus', 'euoplocephalus', 'eupodosaurus', 'eureodon', 'eurolimnornis', 'euronychodon', 'europasaurus', 'europatitan', 'europelta', 'euskelosaurus', 'eustreptospondylus', 'fabrosaurus', 'falcarius', 'fendusaurus', 'fenestrosaurus', 'ferganasaurus', 'ferganastegos', 'ferganocephale', 'foraminacephale', 'fosterovenator', 'frenguellisaurus', 'fruitadens', 'fukuiraptor', 'fukuisaurus', 'fukuititan', 'fukuivenator', 'fulengia', 'fulgurotherium', 'fusinasus', 'fusuisaurus', 'futabasaurus', 'futalognkosaurus', 'gadolosaurus', 'galeamopus', 'galesaurus', 'gallimimus', 'galtonia', 'galveosaurus', 'galvesaurus', 'gannansaurus', 'gansutitan', 'ganzhousaurus', 'gargoyleosaurus', 'garudimimus', 'gasosaurus', 'gasparinisaura', 'gastonia', 'gavinosaurus', 'geminiraptor', 'genusaurus', 'genyodectes', 'geranosaurus', 'gideonmantellia', 'giganotosaurus', 'gigantoraptor', 'gigantosaurus', 'gigantosaurus', 'gigantoscelus', 'gigantspinosaurus', 'gilmoreosaurus', 'ginnareemimus', 'giraffatitan', 'glacialisaurus', 'glishades', 'glyptodontopelta', 'skeleton', 'gobiceratops', 'gobisaurus', 'gobititan', 'gobivenator', 'godzillasaurus', 'gojirasaurus', 'gondwanatitan', 'gongbusaurus', 'gongpoquansaurus', 'gongxianosaurus', 'gorgosaurus', 'goyocephale', 'graciliceratops', 'graciliraptor', 'gracilisuchus', 'gravitholus', 'gresslyosaurus', 'griphornis', 'griphosaurus', 'gryphoceratops', 'gryponyx', 'gryposaurus', 'gspsaurus', 'guaibasaurus', 'gualicho', 'guanlong', 'gwyneddosaurus', 'gyposaurus', 'hadrosauravus', 'hadrosaurus', 'haestasaurus', 'hagryphus', 'hallopus', 'halszkaraptor', 'halticosaurus', 'hanssuesia', 'hanwulosaurus', 'haplocanthosaurus', 'haplocanthus', 'haplocheirus', 'harpymimus', 'haya', 'hecatasaurus', 'heilongjiangosaurus', 'heishansaurus', 'helioceratops', 'helopus', 'heptasteornis', 'herbstosaurus', 'herrerasaurus', 'hesperonychus', 'hesperosaurus', 'heterodontosaurus', 'heterosaurus', 'hexing', 'hexinlusaurus', 'heyuannia', 'hierosaurus', 'hippodraco', 'hironosaurus', 'hisanohamasaurus', 'histriasaurus', 'homalocephale', 'honghesaurus', 'hongshanosaurus', 'hoplitosaurus', 'hoplosaurus', 'horshamosaurus', 'hortalotarsus', 'huabeisaurus', 'hualianceratops', 'huanansaurus', 'huanghetitan', 'huangshanlong', 'huaxiagnathus', 'huaxiaosaurus', 'huaxiasaurus', 'huayangosaurus', 'hudiesaurus', 'huehuecanauhtlus', 'hulsanpes', 'hungarosaurus', 'huxleysaurus', 'hylaeosaurus', 'hylosaurushypacrosaurus', 'hypselorhachis', 'hypselosaurus', 'hypselospinus', 'hypsibema', 'hypsilophodon', 'hypsirhophus', 'habodcraniosaurus', 'ichthyovenator', 'ignavusaurus', 'iguanacolossus', 'iguanodon', 'iguanoides', 'skeleton', 'iguanosaurus', 'iliosuchus', 'ilokelesia', 'incisivosaurus', 'indosaurus', 'indosuchus', 'ingenia', 'inosaurus', 'irritator', 'isaberrysaura', 'isanosaurus', 'ischioceratops', 'ischisaurus', 'ischyrosaurus', 'isisaurus', 'issasaurus', 'itemirus', 'iuticosaurus', 'jainosaurus', 'jaklapallisaurus', 'janenschia', 'jaxartosaurus', 'jeholosaurus', 'jenghizkhan', 'jensenosaurus', 'jeyawati', 'jianchangosaurus', 'jiangjunmiaosaurus', 'jiangjunosaurus', 'jiangshanosaurus', 'jiangxisaurus', 'jianianhualong', 'jinfengopteryx', 'jingshanosaurus', 'jintasaurus', 'jinzhousaurus', 'jiutaisaurus', 'jobaria', 'jubbulpuria', 'judiceratops', 'jurapteryx', 'jurassosaurus', 'juratyrant', 'juravenator', 'kagasaurus', 'kaijiangosaurus', 'kakuru', 'kangnasaurus', 'karongasaurus', 'katepensaurus', 'katsuyamasaurus', 'kayentavenator', 'kazaklambia', 'kelmayisaurus', 'kemkemiakentrosaurus', 'kentrurosaurus', 'kerberosaurus', 'kentrosaurus', 'khaan', 'khetranisaurus', 'kileskus', 'kinnareemimus', 'kitadanisaurus', 'kittysaurus', 'klamelisauruskol', 'koparion', 'koreaceratops', 'koreanosaurus', 'koreanosaurus', 'koshisaurus', 'kosmoceratops', 'kotasaurus', 'koutalisaurus', 'kritosaurus', 'kryptops', 'krzyzanowskisaurus', 'kukufeldia', 'kulceratops', 'kulindadromeus', 'kulindapteryx', 'kunbarrasaurus', 'kundurosaurus', 'kunmingosaurus', 'kuszholia', 'labocania', 'labrosaurus', 'laelaps', 'laevisuchus', 'lagerpeton', 'lagosuchus', 'laiyangosaurus', 'lamaceratops', 'lambeosaurus', 'lametasaurus', 'lamplughsaura', 'lanasaurus', 'lancangosaurus', 'lancanjiangosaurus', 'lanzhousaurus', 'laosaurus', 'lapampasaurus', 'laplatasaurus', 'lapparentosaurus', 'laquintasaura', 'latenivenatrix', 'latirhinus', 'leaellynasaura', 'leinkupal', 'leipsanosaurus', 'lengosaurus', 'leonerasaurus', 'lepidocheirosaurus', 'lepidus', 'leptoceratops', 'leptorhynchos', 'leptospondylus', 'leshansaurus', 'lesothosaurus', 'lessemsaurus', 'levnesovia', 'lewisuchus', 'lexovisaurus', 'leyesaurus', 'liaoceratops', 'liaoningosaurus', 'liaoningtitan', 'liaoningvenator', 'liassaurus', 'libycosaurus', 'ligabueino', 'ligabuesaurus', 'ligomasaurus', 'likhoelesaurus', 'liliensternus', 'limaysaurus', 'limnornis', 'limnosaurus', 'limusaurus', 'linhenykus', 'linheraptor', 'linhevenator', 'lirainosaurus', 'lisboasaurusliubangosaurus', 'lohuecotitan', 'loncosaurus', 'longisquama', 'longosaurus', 'lophorhothon', 'lophostropheus', 'loricatosaurus', 'loricosaurus', 'losillasaurus', 'lourinhanosaurus', 'lourinhasaurus', 'luanchuanraptor', 'luanpingosaurus', 'lucianosaurus', 'lucianovenator', 'lufengosaurus', 'lukousaurus', 'luoyanggia', 'lurdusaurus', 'lusitanosaurus', 'lusotitan', 'lycorhinus', 'lythronax', 'macelognathus', 'machairasaurus', 'machairoceratops', 'macrodontophion', 'macrogryphosaurus', 'macrophalangia', 'macroscelosaurus', 'macrurosaurus', 'madsenius', 'magnapaulia', 'magnamanus', 'magnirostris', 'magnosaurus', 'magulodon', 'magyarosaurus', 'mahakala', 'maiasaura', 'majungasaurus', 'majungatholus', 'malarguesaurus', 'malawisaurus', 'maleevosaurus', 'maleevus', 'mamenchisaurus', 'manidens', 'mandschurosaurus', 'manospondylus', 'mantellisaurus', 'mantellodon', 'mapusaurus', 'marasuchus', 'marisaurus', 'marmarospondylus', 'marshosaurus', 'martharaptor', 'masiakasaurus', 'massospondylus', 'matheronodon', 'maxakalisaurus', 'medusaceratops', 'megacervixosaurus', 'megadactylus', 'megadontosaurus', 'megalosaurus', 'megapnosaurus', 'megaraptor', 'mei', 'melanorosaurus', 'mendozasaurus', 'mercuriceratops', 'meroktenos', 'metriacanthosaurus', 'microcephale', 'microceratops', 'microceratus', 'microcoelus', 'microdontosaurus', 'microhadrosaurus', 'micropachycephalosaurus', 'microraptor', 'microvenator', 'mierasaurus', 'mifunesaurus', 'minmi', 'minotaurasaurus', 'miragaia', 'mirischia', 'moabosaurus', 'mochlodon', 'mohammadisaurus', 'mojoceratops', 'mongolosaurus', 'monkonosaurus', 'monoclonius', 'monolophosaurus', 'mononychus', 'mononykus', 'montanoceratops', 'morelladon', 'morinosaurus', 'morosaurus', 'morrosaurus', 'mosaiceratops', 'moshisaurus', 'mtapaiasaurus', 'mtotosaurus', 'murusraptor', 'mussaurus', 'muttaburrasaurus', 'muyelensaurus', 'mymoorapelta', 'naashoibitosaurus', 'nambalia', 'nankangia', 'nanningosaurus', 'nanosaurus', 'nanotyrannus', 'nanshiungosaurus', 'nanuqsaurus', 'nanyangosaurus', 'narambuenatitan', 'nasutoceratops', 'natronasaurus', 'nebulasaurus', 'nectosaurus', 'nedcolbertia', 'nedoceratops', 'neimongosaurus', 'nemegtia', 'nemegtomaia', 'nemegtosaurus', 'neosaurus', 'neosodon', 'neovenator', 'neuquenraptor', 'neuquensaurus', 'newtonsaurus', 'ngexisaurus', 'nicksaurus', 'nigersaurus', 'ningyuansaurus', 'niobrarasaurus', 'nipponosaurus', 'noasaurus', 'nodocephalosaurus', 'nodosaurus', 'nomingia', 'nopcsaspondylus', 'normanniasaurus', 'nothronychus', 'notoceratops', 'notocolossus', 'notohypsilophodon', 'nqwebasaurus', 'nteregosaurus', 'nurosaurus', 'nuthetes', 'nyasasaurus', 'nyororosaurus', 'ohmdenosaurus', 'ojoceratops', 'ojoraptorsaurus', 'oligosaurus', 'olorotitan', 'omeisaurus', 'omosaurus', 'onychosaurus', 'oohkotokia', 'opisthocoelicaudia', 'oplosaurus', 'orcomimus', 'orinosaurusorkoraptor', 'ornatotholusornithodesmus', 'ornithoides', 'ornitholestes', 'ornithomerus', 'ornithomimoides', 'ornithomimus', 'ornithopsis', 'ornithosuchus', 'ornithotarsus', 'orodromeus', 'orosaurus', 'orthogoniosaurus', 'orthomerus', 'oryctodromeus', 'oshanosaurus', 'osmakasaurus', 'ostafrikasaurus', 'ostromia', 'othnielia', 'othnielosaurus', 'otogosaurus', 'ouranosaurus', 'overosaurus', 'oviraptor', 'ovoraptor', 'owenodon', 'oxalaia', 'ozraptor', 'pachycephalosaurus', 'pachyrhinosaurus', 'pachysauriscus', 'pachysaurops', 'pachysaurus', 'pachyspondylus', 'pachysuchus', 'padillasaurus', 'pakisaurus', 'palaeoctonus', 'palaeocursornis', 'palaeolimnornis', 'palaeopteryx', 'palaeosauriscus', 'palaeosaurus', 'palaeosaurus', 'palaeoscincus', 'paleosaurus', 'paludititan', 'paluxysaurus', 'pampadromaeus', 'pamparaptor', 'panamericansaurus', 'pandoravenator', 'panguraptor', 'panoplosaurus', 'panphagia', 'pantydraco', 'paraiguanodon', 'paralititan', 'paranthodon', 'pararhabdodon', 'parasaurolophus', 'pareiasaurus', 'parksosaurus', 'paronychodon', 'parrosaurus', 'parvicursor', 'patagonykus', 'patagosaurus', 'patagotitan', 'pawpawsaurus', 'pectinodon', 'pedopenna', 'pegomastax', 'peishansaurus', 'pekinosaurus', 'pelecanimimus', 'pellegrinisaurus', 'peloroplites', 'pelorosaurus', 'peltosaurus', 'penelopognathus', 'pentaceratops', 'petrobrasaurus', 'phaedrolosaurus', 'philovenator', 'phuwiangosaurus', 'phyllodon', 'piatnitzkysaurus', 'picrodon', 'pinacosaurus', 'pisanosaurus', 'pitekunsaurus', 'piveteausaurus', 'planicoxa', 'plateosauravus', 'plateosaurus', 'platyceratops', 'plesiohadros', 'pleurocoelus', 'pleuropeltus', 'pneumatoarthrus', 'pneumatoraptor', 'podokesaurus', 'poekilopleuron', 'polacanthoides', 'polacanthus', 'polyodontosaurus', 'polyonax', 'ponerosteus', 'poposaurus', 'parasaurolophus', 'postosuchus', 'powellvenator', 'pradhania', 'prenocephale', 'prenoceratops', 'priconodon', 'priodontognathus', 'proa', 'probactrosaurus', 'probrachylophosaurus', 'proceratops', 'proceratosaurus', 'procerosaurus', 'procerosaurus', 'procheneosaurus', 'procompsognathus', 'prodeinodon', 'proiguanodon', 'propanoplosaurus', 'proplanicoxa', 'prosaurolophus', 'protarchaeopteryx', 'protecovasaurus', 'protiguanodon', 'protoavis', 'protoceratops', 'protognathosaurus', 'protognathus', 'protohadros', 'protorosaurus', 'protorosaurus', 'protrachodon', 'proyandusaurus', 'pseudolagosuchus', 'psittacosaurus', 'pteropelyx', 'pterospondylus', 'puertasaurus', 'pukyongosaurus', 'pulanesaura', 'pycnonemosaurus', 'pyroraptor', 'qantassaurus', 'qianzhousaurus', 'qiaowanlong', 'qijianglong', 'qinlingosaurus', 'qingxiusaurus', 'qiupalong', 'quaesitosaurus', 'quetecsaurus', 'quilmesaurus', 'rachitrema', 'rahiolisaurus', 'rahona', 'rahonavis', 'rajasaurus', 'rapator', 'rapetosaurus', 'raptorex', 'ratchasimasaurus', 'rativates', 'rayososaurus', 'razanandrongobe', 'rebbachisaurus', 'regaliceratops', 'regnosaurus', 'revueltosaurus', 'rhabdodon', 'rhadinosaurus', 'rhinorex', 'rhodanosaurus', 'rhoetosaurus', 'rhopalodon', 'riabininohadros', 'richardoestesia', 'rileya', 'rileyasuchus', 'rinchenia', 'rinconsaurus', 'rioarribasaurus', 'riodevasaurus', 'riojasaurus', 'riojasuchus', 'rocasaurus', 'roccosaurus', 'rubeosaurus', 'ruehleia', 'rugocaudia', 'rugops', 'rukwatitan', 'ruyangosaurus', 'sacisaurus', 'sahaliyania', 'saichania', 'saldamosaurus', 'salimosaurus', 'saltasaurus', 'saltopus', 'saltriosaurus', 'sanchusaurus', 'sangonghesaurus', 'sanjuansaurus', 'sanpasaurus', 'santanaraptor', 'saraikimasoom', 'sarahsaurus', 'sarcolestes', 'sarcosaurus', 'sarmientosaurus', 'saturnalia', 'sauraechinodon', 'saurolophus', 'sauroniops', 'sauropelta', 'saurophaganax', 'saurophagus', 'sauroplites', 'sauroposeidon', 'saurornithoides', 'saurornitholestes', 'savannasaurus', 'scansoriopteryx', 'scaphonyx', 'scelidosaurus', 'scipionyx', 'sciurumimus', 'scleromochlus', 'scolosaurus', 'scutellosaurus', 'secernosaurus', 'sefapanosaurus', 'segisaurus', 'segnosaurus', 'seismosaurus', 'seitaad', 'selimanosaurus', 'sellacoxa', 'sellosaurus', 'serendipaceratops', 'serikornis', 'shamosaurus', 'shanag', 'shanshanosaurus', 'shantungosaurus', 'shanxia', 'shanyangosaurus', 'shaochilong', 'shenzhousaurus', 'shidaisaurus', 'shingopana', 'shixinggia', 'shuangbaisaurus', 'shuangmiaosaurus', 'shunosaurus', 'shuvosaurus', 'shuvuuia', 'siamodon', 'siamodracon', 'siamosaurus', 'siamotyrannus', 'siats', 'sibirosaurus', 'sibirotitan', 'sidormimus', 'sigilmassasaurus', 'silesaurus', 'siluosaurus', 'silvisaurus', 'similicaudipteryx', 'sinocalliopteryx', 'sinoceratops', 'sinocoelurus', 'sinopelta', 'sinopeltosaurus', 'sinornithoides', 'sinornithomimus', 'sinornithosaurus', 'sinosauropteryx', 'sinosaurus', 'sinotyrannus', 'sinovenator', 'sinraptor', 'sinusonasus', 'sirindhorna', 'skorpiovenator', 'smilodon', 'sonidosaurus', 'sonorasaurus', 'soriatitan', 'sphaerotholus', 'sphenosaurus', 'sphenospondylus', 'spiclypeus', 'spinophorosaurus', 'spinops', 'spinosaurus', 'spinostropheus', 'spinosuchus', 'spondylosoma', 'squalodon', 'staurikosaurus', 'stegoceras', 'stegopelta', 'stegosaurides', 'stegosaurus', 'stenonychosaurus', 'stenopelix', 'stenotholus', 'stephanosaurus', 'stereocephalus', 'sterrholophus', 'stokesosaurus', 'stormbergia', 'strenusaurus', 'streptospondylus', 'struthiomimus', 'struthiosaurus', 'stygimoloch', 'stygivenator', 'styracosaurus', 'succinodon', 'suchomimus', 'suchosaurus', 'suchoprion', 'sugiyamasaurus', 'skeleton', 'sulaimanisaurus', 'supersaurus', 'suuwassea', 'suzhousaurus', 'symphyrophus', 'syngonosaurus', 'syntarsus', 'syrmosaurus', 'szechuanosaurus', 'tachiraptor', 'talarurus', 'talenkauen', 'talos', 'tambatitanis', 'tangvayosaurus', 'tanius', 'tanycolagreus', 'tanystropheus', 'tanystrosuchus', 'taohelong', 'tapinocephalus', 'tapuiasaurus', 'tarascosaurus', 'tarbosaurus', 'tarchia', 'tastavinsaurus', 'tatankacephalus', 'tatankaceratops', 'tataouinea', 'tatisaurus', 'taurovenator', 'taveirosaurus', 'tawa', 'tawasaurus', 'tazoudasaurus', 'technosaurus', 'tecovasaurus', 'tehuelchesaurus', 'teihivenator', 'teinurosaurus', 'teleocrater', 'telmatosaurus', 'tenantosaurus', 'tenchisaurus', 'tendaguria', 'tengrisaurus', 'tenontosaurus', 'teratophoneus', 'teratosaurus', 'termatosaurus', 'tethyshadros', 'tetragonosaurus', 'texacephale', 'texasetes', 'teyuwasu', 'thecocoelurus', 'thecodontosaurus', 'thecospondylus', 'theiophytalia', 'therizinosaurus', 'therosaurus', 'thescelosaurus', 'thespesius', 'thotobolosaurus', 'tianchisaurus', 'tianchungosaurus', 'tianyulong', 'tianyuraptor', 'tianzhenosaurus', 'tichosteus', 'tienshanosaurus', 'timimus', 'timurlengia', 'titanoceratops', 'titanosaurus', 'titanosaurus', 'tochisaurus', 'tomodon', 'tonganosaurus', 'tongtianlong', 'tonouchisaurus', 'torilion', 'tornieria', 'torosaurus', 'torvosaurus', 'tototlmimus', 'trachodon', 'traukutitan', 'trialestes', 'triassolestes', 'tribelesodon', 'triceratops', 'trigonosaurus', 'trimucrodon', 'trinisaura', 'triunfosaurus', 'troodon', 'tsaagan', 'tsagantegia', 'tsintaosaurus', 'tugulusaurus', 'tuojiangosaurus', 'turanoceratops', 'turiasaurus', 'tylocephale', 'tylosteus', 'tyrannosaurus', 'tyrannotitan', 'illustration', 'uberabatitan', 'udanoceratops', 'ugrosaurus', 'ugrunaaluk', 'uintasaurus', 'ultrasauros', 'ultrasaurus', 'ultrasaurus', 'umarsaurus', 'unaysaurus', 'unenlagia', 'unescoceratops', 'unicerosaurus', 'unquillosaurus', 'urbacodon', 'utahceratops', 'utahraptor', 'uteodon', 'vagaceratops', 'vahiny', 'valdoraptor', 'valdosaurus', 'variraptor', 'velociraptor', 'vectensia', 'vectisaurus', 'velafrons', 'velocipes', 'velociraptor', 'velocisaurus', 'venaticosuchus', 'venenosaurus', 'veterupristisaurus', 'viavenator', 'vitakridrinda', 'vitakrisaurus', 'volkheimeria', 'vouivria', 'vulcanodon', 'wadhurstia', 'wakinosaurus', 'walgettosuchus', 'walkeria', 'walkersaurus', 'wangonisaurus', 'wannanosaurus', 'wellnhoferia', 'wendiceratops', 'wiehenvenator', 'willinakaqe', 'wintonotitan', 'wuerhosaurus', 'wulagasaurus', 'wulatelong', 'wyleyia', 'wyomingraptor', 'xenoceratops', 'xenoposeidon', 'xenotarsosaurus', 'xianshanosaurus', 'xiaosaurus', 'xingxiulong', 'xinjiangovenator', 'xinjiangtitan', 'xiongguanlong', 'xixianykus', 'xixiasaurus', 'xixiposaurus', 'xuanhanosaurus', 'xuanhuaceratops', 'xuanhuasaurus', 'xuwulong', 'yaleosaurus', 'yamaceratops', 'yandusaurus', 'yangchuanosaurus', 'yaverlandia', 'yehuecauhceratops', 'yezosaurus', 'yibinosaurus', 'yimenosaurus', 'yingshanosaurus', 'yinlong', 'yixianosaurus', 'yizhousaurus', 'yongjinglong', 'yuanmouraptor', 'yuanmousaurus', 'yueosaurus', 'yulong', 'yunganglong', 'yunmenglong', 'yunnanosaurus', 'yunxianosaurus', 'yurgovuchia', 'yutyrannus', 'zanabazar', 'zanclodon', 'zapalasaurus', 'zapsalis', 'zaraapelta', 'zatomuszby', 'zephyrosaurus', 'zhanghenglong', 'zhejiangosaurus', 'zhenyuanlong', 'zhongornis', 'zhongjianosaurus', 'zhongyuansaurus', 'zhuchengceratops', 'zhuchengosaurus', 'zhuchengtitan', 'zhuchengtyrannus', 'ziapelta', 'zigongosaurus', 'zizhongosaurus', 'zuniceratops', 'zunityrannus', 'zuolong', 'zuoyunlong', 'zupaysaurus', 'zuul']\n"
          ],
          "name": "stdout"
        }
      ]
    },
    {
      "metadata": {
        "id": "k0pK5y7395dZ",
        "colab_type": "code",
        "colab": {}
      },
      "cell_type": "code",
      "source": [
        "class RNN(nn.Module):\n",
        "  def __init__(self,input_size,hidden_size,output_size):\n",
        "    super(RNN, self).__init__()\n",
        "    self.hidden_size = hidden_size\n",
        "    \n",
        "    self.i2h = nn.Linear(input_size + hidden_size,hidden_size)\n",
        "    self.i2o = nn.Linear(input_size + hidden_size,output_size)\n",
        "    self.o2o = nn.Linear(hidden_size + output_size, output_size)\n",
        "    self.dropout = nn.Dropout(0.1) #dropout to add variety while generating\n",
        "    self.softmax = nn.LogSoftmax(1) #dimension\n",
        "    \n",
        "  def forward(self, input, hidden):\n",
        "    comb = torch.cat((input, hidden),1) #concatenate columns -> (1,input_size + hidden_size)\n",
        "    next_hidden = self.i2h(comb)\n",
        "    output = self.i2o(comb)\n",
        "    output = self.o2o(torch.cat((output, hidden),1))\n",
        "    output = self.dropout(output)\n",
        "    output = self.softmax(output)\n",
        "    return output, next_hidden\n",
        "  \n",
        "  def initHidden(self):\n",
        "    return torch.zeros(1,self.hidden_size) "
      ],
      "execution_count": 0,
      "outputs": []
    },
    {
      "metadata": {
        "id": "AGvCqWlQDFAP",
        "colab_type": "code",
        "colab": {}
      },
      "cell_type": "code",
      "source": [
        "#Converts string to tensor of one-hots of each char\n",
        "def inputTensor(line): \n",
        "  tensor = torch.zeros(len(line), 1,n_letters)\n",
        "  for letterIndex in range(len(line)):\n",
        "    tensor[letterIndex, 0, all_letters.find(line[letterIndex])] = 1\n",
        "  return tensor"
      ],
      "execution_count": 0,
      "outputs": []
    },
    {
      "metadata": {
        "id": "LwcuKbl8Fub-",
        "colab_type": "code",
        "colab": {}
      },
      "cell_type": "code",
      "source": [
        "def targetTensor(line):  \n",
        "  target_tens = [all_letters.find(line[letIn]) for letIn in range(1,len(line))]\n",
        "  target_tens.append(n_letters - 1) #EOS\n",
        "  return torch.LongTensor(target_tens)"
      ],
      "execution_count": 0,
      "outputs": []
    },
    {
      "metadata": {
        "id": "Q9v7lK-UCWv2",
        "colab_type": "code",
        "colab": {}
      },
      "cell_type": "code",
      "source": [
        "import random\n",
        "\n",
        "def random_train_example(l):\n",
        "  ex = l[random.randint(0,len(l)-1)]\n",
        "  return inputTensor(ex),targetTensor(ex)"
      ],
      "execution_count": 0,
      "outputs": []
    },
    {
      "metadata": {
        "id": "M9--GKIzRQcI",
        "colab_type": "code",
        "colab": {
          "base_uri": "https://localhost:8080/",
          "height": 54
        },
        "outputId": "eda5a8f6-5e42-4622-a189-dc28e2e1f333"
      },
      "cell_type": "code",
      "source": [
        "a , b = random_train_example(trainset)\n",
        "print(a.size())\n",
        "print(b.size())"
      ],
      "execution_count": 165,
      "outputs": [
        {
          "output_type": "stream",
          "text": [
            "torch.Size([11, 1, 53])\n",
            "torch.Size([11])\n"
          ],
          "name": "stdout"
        }
      ]
    },
    {
      "metadata": {
        "id": "tTy_mmBCGLhF",
        "colab_type": "code",
        "colab": {}
      },
      "cell_type": "code",
      "source": [
        "loss_func = nn.NLLLoss() #Pytorch takes care of one-hot-encoding the target tensor\n",
        "\n",
        "lr = 0.0005\n",
        "\n",
        "rnn = RNN(n_letters, 128, n_letters)"
      ],
      "execution_count": 0,
      "outputs": []
    },
    {
      "metadata": {
        "id": "_bE1hE8tMnTO",
        "colab_type": "code",
        "colab": {}
      },
      "cell_type": "code",
      "source": [
        "def train(ip_tensor,tar_tensor):\n",
        "  tar_tensor =  tar_tensor.unsqueeze(-1) #writing in batch-format\n",
        "  hidden = rnn.initHidden() #initializing hidden unit with zeros\n",
        "  \n",
        "  rnn.zero_grad()\n",
        "  \n",
        "  loss = 0\n",
        "  \n",
        "  for i in range(ip_tensor.size()[0]):\n",
        "    output, hidden = rnn(ip_tensor[i],hidden)\n",
        "    \n",
        "    loss += loss_func(output, tar_tensor[i])\n",
        "  \n",
        "  loss.backward()\n",
        "  \n",
        "  #manual optimization\n",
        "  \n",
        "  for p in rnn.parameters():\n",
        "    p.data.add_(-lr, p.grad.data)\n",
        "    \n",
        "  return output, loss.item()/ip_tensor.size()[0] #loss per letter "
      ],
      "execution_count": 0,
      "outputs": []
    },
    {
      "metadata": {
        "id": "pI0OYS1kMvWf",
        "colab_type": "code",
        "colab": {
          "base_uri": "https://localhost:8080/",
          "height": 381
        },
        "outputId": "a799e177-a5b0-4082-905b-54a96a98678f"
      },
      "cell_type": "code",
      "source": [
        "n_iters = 100000\n",
        "total_loss = 0\n",
        "\n",
        "\n",
        "for iter in range(n_iters):\n",
        "  inputTens, targetTens = random_train_example(trainset)\n",
        "  output, loss = train(inputTens, targetTens)\n",
        "  total_loss += loss\n",
        "  \n",
        "  if iter%5000 == 0:\n",
        "    print(\"Loss at iteration \"+str(iter)+\": \"+str(loss))"
      ],
      "execution_count": 168,
      "outputs": [
        {
          "output_type": "stream",
          "text": [
            "Loss at iteration 0: 3.951614966759315\n",
            "Loss at iteration 5000: 1.7929044870229869\n",
            "Loss at iteration 10000: 1.3441793001615083\n",
            "Loss at iteration 15000: 1.6545946938650948\n",
            "Loss at iteration 20000: 2.311568366156684\n",
            "Loss at iteration 25000: 1.6059107099260603\n",
            "Loss at iteration 30000: 2.3028291702270507\n",
            "Loss at iteration 35000: 3.0797551472981772\n",
            "Loss at iteration 40000: 1.5362943502572866\n",
            "Loss at iteration 45000: 2.2995279100206165\n",
            "Loss at iteration 50000: 1.2390155792236328\n",
            "Loss at iteration 55000: 2.5642776489257812\n",
            "Loss at iteration 60000: 1.865782380104065\n",
            "Loss at iteration 65000: 2.4767744541168213\n",
            "Loss at iteration 70000: 2.109428596496582\n",
            "Loss at iteration 75000: 1.8959922790527344\n",
            "Loss at iteration 80000: 1.4285663877214705\n",
            "Loss at iteration 85000: 2.417173226674398\n",
            "Loss at iteration 90000: 2.248382861797626\n",
            "Loss at iteration 95000: 2.2507020510160007\n"
          ],
          "name": "stdout"
        }
      ]
    },
    {
      "metadata": {
        "id": "BZGm4551TK_0",
        "colab_type": "code",
        "colab": {}
      },
      "cell_type": "code",
      "source": [
        "max_length = 25\n",
        "\n",
        "def sample(start_letter = 'a'):\n",
        "  with torch.no_grad():\n",
        "    input = inputTensor(start_letter)\n",
        "    hidden = rnn.initHidden()\n",
        "    \n",
        "    output_name = start_letter #init\n",
        "    \n",
        "    for i in range(max_length):\n",
        "      output, hidden = rnn(input[0] , hidden)\n",
        "      topv, topi = output.topk(1) #largest value\n",
        "      if topi == n_letters - 1: #EOS\n",
        "        break\n",
        "        \n",
        "      else:\n",
        "        letter = all_letters[topi]\n",
        "        output_name += letter\n",
        "        input = inputTensor(letter)\n",
        "  return output_name"
      ],
      "execution_count": 0,
      "outputs": []
    },
    {
      "metadata": {
        "id": "cyC00NDwdzyz",
        "colab_type": "code",
        "colab": {
          "base_uri": "https://localhost:8080/",
          "height": 490
        },
        "outputId": "778a98d6-20bf-49fc-83f6-09c07021c782"
      },
      "cell_type": "code",
      "source": [
        "for i in range(97,97+26):\n",
        "  result = sample(chr(i))\n",
        "  result = chr(ord(result[0]) - 32) + result[1:]\n",
        "  print(result)"
      ],
      "execution_count": 185,
      "outputs": [
        {
          "output_type": "stream",
          "text": [
            "Aurusalops\n",
            "Baratosiusuurus\n",
            "Chianosaurus\n",
            "Dongonosaurus\n",
            "Eratopsaurusaurus\n",
            "Furusanosaurup\n",
            "Gongosaurus\n",
            "Hangosaurus\n",
            "Iangostorus\n",
            "Jiangostarus\n",
            "Kangosaurus\n",
            "Lonosaurastur\n",
            "Mangongantos\n",
            "Nitongonaurus\n",
            "Orachus\n",
            "Phodonosan\n",
            "Quanosaurus\n",
            "Raptosaurus\n",
            "Sianosausus\n",
            "Tangosaurus\n",
            "Urusaleus\n",
            "Venacoratos\n",
            "Wangosaurus\n",
            "Xuanodon\n",
            "Yranosauras\n",
            "Zalangosaurus\n"
          ],
          "name": "stdout"
        }
      ]
    },
    {
      "metadata": {
        "id": "tMEnwtfRjllF",
        "colab_type": "code",
        "colab": {}
      },
      "cell_type": "code",
      "source": [
        ""
      ],
      "execution_count": 0,
      "outputs": []
    }
  ]
}